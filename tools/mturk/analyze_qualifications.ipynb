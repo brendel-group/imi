{
 "cells": [
  {
   "cell_type": "code",
   "execution_count": null,
   "metadata": {},
   "outputs": [],
   "source": [
    "import pickle\n",
    "import numpy as np\n",
    "import pandas as pd"
   ]
  },
  {
   "attachments": {},
   "cell_type": "markdown",
   "metadata": {},
   "source": [
    "# Load qualifications\n",
    "Loads the data that has been saved before using `python extract_qualifications --qualifications-pattern brendellab-ic-`."
   ]
  },
  {
   "cell_type": "code",
   "execution_count": null,
   "metadata": {},
   "outputs": [],
   "source": [
    "with open(\"qualification_workers.pkl\", \"rb\") as f:\n",
    "    qualifications, qualification_workers = pickle.load(f)"
   ]
  },
  {
   "cell_type": "code",
   "execution_count": null,
   "metadata": {},
   "outputs": [],
   "source": [
    "worker_data = dict()\n",
    "for q in qualifications:\n",
    "    for qa in qualification_workers[q[\"QualificationTypeId\"]]:\n",
    "        wid = qa[\"WorkerId\"]\n",
    "        if wid not in worker_data:\n",
    "            worker_data[wid] = dict()\n",
    "        qa = {**qa, \"Granted\": qa[\"Status\"] == \"Granted\"}\n",
    "        new_data = {q[\"Name\"].replace(\"brendellab-ic-\", \"\") + \"/\" + k: v for k, v in qa.items() if k != \"QualificationTypeId\"}\n",
    "        worker_data[wid] = {**worker_data[wid], **new_data}\n"
   ]
  },
  {
   "attachments": {},
   "cell_type": "markdown",
   "metadata": {},
   "source": [
    "# Show all qualifications"
   ]
  },
  {
   "cell_type": "code",
   "execution_count": null,
   "metadata": {},
   "outputs": [],
   "source": [
    "[q[\"Name\"].replace(\"brendellab-ic-\", \"\") for q in qualifications]"
   ]
  },
  {
   "attachments": {},
   "cell_type": "markdown",
   "metadata": {},
   "source": [
    "# Test whether all participants have the summary qualification"
   ]
  },
  {
   "cell_type": "code",
   "execution_count": null,
   "metadata": {},
   "outputs": [],
   "source": [
    "df = pd.DataFrame.from_dict(worker_data, orient=\"index\")"
   ]
  },
  {
   "cell_type": "code",
   "execution_count": null,
   "metadata": {},
   "outputs": [],
   "source": [
    "granted_df = df.filter(regex=\".*/Granted\")\n",
    "granted_df = granted_df.fillna(False)\n",
    "granted_df.sum(axis=1).value_counts()"
   ]
  },
  {
   "cell_type": "code",
   "execution_count": null,
   "metadata": {},
   "outputs": [],
   "source": [
    "assert (granted_df[\"202303/Granted\"] == False).sum() == 0"
   ]
  },
  {
   "cell_type": "code",
   "execution_count": null,
   "metadata": {},
   "outputs": [],
   "source": [
    "(granted_df[\"202303-202303/Granted\"] == True).sum()"
   ]
  }
 ],
 "metadata": {
  "kernelspec": {
   "display_name": "interpretability",
   "language": "python",
   "name": "python3"
  },
  "language_info": {
   "codemirror_mode": {
    "name": "ipython",
    "version": 3
   },
   "file_extension": ".py",
   "mimetype": "text/x-python",
   "name": "python",
   "nbconvert_exporter": "python",
   "pygments_lexer": "ipython3",
   "version": "3.10.10"
  },
  "orig_nbformat": 4
 },
 "nbformat": 4,
 "nbformat_minor": 2
}
